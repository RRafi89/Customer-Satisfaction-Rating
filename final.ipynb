{
 "cells": [
  {
   "cell_type": "code",
   "metadata": {
    "ExecuteTime": {
     "end_time": "2025-03-04T06:23:33.658721Z",
     "start_time": "2025-03-04T06:23:33.649726Z"
    }
   },
   "source": [
    "import pandas as pd\n",
    "import numpy as np\n",
    "import seaborn as sns\n",
    "import matplotlib.pyplot as plt"
   ],
   "outputs": [],
   "execution_count": 30
  },
  {
   "cell_type": "code",
   "metadata": {
    "ExecuteTime": {
     "end_time": "2025-03-04T06:23:34.615174Z",
     "start_time": "2025-03-04T06:23:33.674243Z"
    }
   },
   "source": [
    "df = pd.read_csv('train.csv')"
   ],
   "outputs": [],
   "execution_count": 31
  },
  {
   "cell_type": "code",
   "metadata": {
    "ExecuteTime": {
     "end_time": "2025-03-04T06:23:34.727702Z",
     "start_time": "2025-03-04T06:23:34.702709Z"
    }
   },
   "source": [
    "df.drop(columns=['id', 'Unnamed: 0'], inplace=True)"
   ],
   "outputs": [],
   "execution_count": 32
  },
  {
   "cell_type": "code",
   "metadata": {
    "ExecuteTime": {
     "end_time": "2025-03-04T06:23:34.940658Z",
     "start_time": "2025-03-04T06:23:34.774353Z"
    }
   },
   "source": [
    "from sklearn.preprocessing import LabelEncoder\n",
    "\n",
    "categorical_cols = ['Type of Travel', 'Gender', 'Customer Type', 'Class', 'satisfaction']\n",
    "encoding_dict = {}\n",
    "le = LabelEncoder()\n",
    "\n",
    "for col in categorical_cols:\n",
    "    df[col] = le.fit_transform(df[col])\n",
    "    encoding_dict[col] = dict(zip(le.classes_, range(len(le.classes_))))\n",
    "print(\"\\nEncoding Mappings:\")\n",
    "for col, mapping in encoding_dict.items():\n",
    "    print(f\"{col}: {mapping}\")"
   ],
   "outputs": [
    {
     "name": "stdout",
     "output_type": "stream",
     "text": [
      "\n",
      "Encoding Mappings:\n",
      "Type of Travel: {'Business travel': 0, 'Personal Travel': 1}\n",
      "Gender: {'Female': 0, 'Male': 1}\n",
      "Customer Type: {'Loyal Customer': 0, 'disloyal Customer': 1}\n",
      "Class: {'Business': 0, 'Eco': 1, 'Eco Plus': 2}\n",
      "satisfaction: {'neutral or dissatisfied': 0, 'satisfied': 1}\n"
     ]
    }
   ],
   "execution_count": 33
  },
  {
   "cell_type": "code",
   "metadata": {
    "ExecuteTime": {
     "end_time": "2025-03-04T06:23:35.017383Z",
     "start_time": "2025-03-04T06:23:34.990017Z"
    }
   },
   "source": [
    "df.dropna(axis=0, inplace=True)"
   ],
   "outputs": [],
   "execution_count": 34
  },
  {
   "cell_type": "code",
   "metadata": {
    "ExecuteTime": {
     "end_time": "2025-03-04T06:23:35.071262Z",
     "start_time": "2025-03-04T06:23:35.062910Z"
    }
   },
   "source": [
    "from itertools import combinations\n",
    "\n",
    "def create_interactions(df, feature_list):\n",
    "    for feat1, feat2, feat3 in combinations(feature_list, 3):\n",
    "        df[f'{feat1}_x_{feat2}'] = (df[feat1] ** 2) * (df[feat2] ** 4)\n",
    "        df[f'{feat1}_x_{feat2}_x_{feat3}'] = (df[feat1] ** 4) * (df[feat2] ** 4) * (df[feat3] ** 3)\n",
    "    return df"
   ],
   "outputs": [],
   "execution_count": 35
  },
  {
   "cell_type": "code",
   "metadata": {
    "ExecuteTime": {
     "end_time": "2025-03-04T06:23:35.127321Z",
     "start_time": "2025-03-04T06:23:35.118209Z"
    }
   },
   "source": [
    "def remove_collinearity_with_target(df, target_col, threshold=0.90):\n",
    "    X = df.drop(columns=[target_col])\n",
    "    target_corr = abs(X.corrwith(df[target_col]))\n",
    "    corr_matrix = X.corr().abs()\n",
    "    upper = corr_matrix.where(np.triu(np.ones(corr_matrix.shape), k=1).astype(bool))\n",
    "    to_drop = []\n",
    "    \n",
    "    for col in upper.columns:\n",
    "        correlated_features = upper[col][upper[col] > threshold].index\n",
    "        for feat in correlated_features:\n",
    "            if target_corr[col] < target_corr[feat]:\n",
    "                to_drop.append(col)\n",
    "                break\n",
    "    \n",
    "    return df.drop(columns=to_drop)"
   ],
   "outputs": [],
   "execution_count": 36
  },
  {
   "cell_type": "code",
   "metadata": {
    "ExecuteTime": {
     "end_time": "2025-03-04T06:23:35.366281Z",
     "start_time": "2025-03-04T06:23:35.215423Z"
    }
   },
   "source": [
    "features = ['Class', 'Type of Travel', 'Seat comfort', 'Inflight entertainment', 'Online boarding', 'Customer Type']\n",
    "df = create_interactions(df, features)"
   ],
   "outputs": [],
   "execution_count": 37
  },
  {
   "cell_type": "code",
   "metadata": {
    "ExecuteTime": {
     "end_time": "2025-03-04T06:23:39.019347Z",
     "start_time": "2025-03-04T06:23:35.375290Z"
    }
   },
   "source": [
    "df = remove_collinearity_with_target(df, 'satisfaction', 0.80)"
   ],
   "outputs": [],
   "execution_count": 38
  },
  {
   "cell_type": "code",
   "metadata": {
    "ExecuteTime": {
     "end_time": "2025-03-04T06:23:39.561559Z",
     "start_time": "2025-03-04T06:23:39.073267Z"
    }
   },
   "source": [
    "def remove_outliers(df, method=\"zscore\", threshold=3):\n",
    "    df_clean = df.copy()\n",
    "    \n",
    "    if method == \"zscore\":\n",
    "        z_scores = np.abs((df_clean - df_clean.mean()) / df_clean.std())\n",
    "        df_clean = df_clean[(z_scores < threshold).all(axis=1)]\n",
    "    \n",
    "    elif method == \"iqr\":\n",
    "        Q1 = df_clean.quantile(0.25)\n",
    "        Q3 = df_clean.quantile(0.75)\n",
    "        IQR = Q3 - Q1\n",
    "        df_clean = df_clean[~((df_clean < (Q1 - 1.5 * IQR)) | (df_clean > (Q3 + 1.5 * IQR))).any(axis=1)]\n",
    "    \n",
    "    elif method == \"percentile\":\n",
    "        lower, upper = df_clean.quantile(0.01), df_clean.quantile(0.99)\n",
    "        df_clean = df_clean[(df_clean >= lower) & (df_clean <= upper)].dropna()\n",
    "\n",
    "    return df_clean\n",
    "\n",
    "\n",
    "df = remove_outliers(df, method=\"iqr\")\n"
   ],
   "outputs": [],
   "execution_count": 39
  },
  {
   "cell_type": "code",
   "metadata": {
    "ExecuteTime": {
     "end_time": "2025-03-04T06:23:39.798108Z",
     "start_time": "2025-03-04T06:23:39.780764Z"
    }
   },
   "source": [
    "X = df.drop(columns=['satisfaction'])\n",
    "y = df['satisfaction']"
   ],
   "outputs": [],
   "execution_count": 40
  },
  {
   "metadata": {
    "ExecuteTime": {
     "end_time": "2025-03-04T06:23:40.967119Z",
     "start_time": "2025-03-04T06:23:39.833125Z"
    }
   },
   "cell_type": "code",
   "source": [
    "import pandas as pd\n",
    "import numpy as np\n",
    "from sklearn.model_selection import train_test_split\n",
    "from sklearn.linear_model import LogisticRegression\n",
    "from sklearn.preprocessing import StandardScaler\n",
    "from sklearn.metrics import accuracy_score, classification_report, roc_auc_score\n",
    "\n",
    "X_train, X_test, y_train, y_test = train_test_split(X, y, test_size=0.2, random_state=42, stratify=y)\n",
    "scaler = StandardScaler()\n",
    "X_train = scaler.fit_transform(X_train)\n",
    "X_test = scaler.transform(X_test)\n",
    "\n",
    "# Initialize and train the baseline model\n",
    "baseline_model = LogisticRegression(random_state=42, max_iter=100000)\n",
    "baseline_model.fit(X_train, y_train)\n",
    "\n",
    "# Make predictions\n",
    "y_pred = baseline_model.predict(X_test)\n",
    "\n",
    "# Evaluate the model\n",
    "accuracy = accuracy_score(y_test, y_pred)\n",
    "roc_auc = roc_auc_score(y_test, baseline_model.predict_proba(X_test)[:, 1])\n",
    "report = classification_report(y_test, y_pred)\n",
    "\n",
    "print(f\"Baseline Model Accuracy: {accuracy:.4f}\")\n",
    "print(f\"Baseline Model ROC AUC: {roc_auc:.4f}\")\n",
    "print(\"\\nClassification Report:\")\n",
    "print(report)"
   ],
   "outputs": [
    {
     "name": "stdout",
     "output_type": "stream",
     "text": [
      "Baseline Model Accuracy: 0.9145\n",
      "Baseline Model ROC AUC: 0.9646\n",
      "\n",
      "Classification Report:\n",
      "              precision    recall  f1-score   support\n",
      "\n",
      "           0       0.85      0.88      0.86      1556\n",
      "           1       0.95      0.93      0.94      3588\n",
      "\n",
      "    accuracy                           0.91      5144\n",
      "   macro avg       0.90      0.90      0.90      5144\n",
      "weighted avg       0.92      0.91      0.91      5144\n",
      "\n"
     ]
    }
   ],
   "execution_count": 41
  },
  {
   "cell_type": "code",
   "metadata": {
    "ExecuteTime": {
     "end_time": "2025-03-04T06:26:49.100510Z",
     "start_time": "2025-03-04T06:23:41.132924Z"
    }
   },
   "source": [
    "import os\n",
    "from sklearn.model_selection import StratifiedKFold, cross_val_score\n",
    "from sklearn.metrics import accuracy_score, classification_report, roc_auc_score, r2_score\n",
    "import xgboost as xgb\n",
    "import lightgbm as lgb\n",
    "from catboost import CatBoostClassifier\n",
    "from sklearn.ensemble import RandomForestClassifier\n",
    "\n",
    "# Limit CPU usage\n",
    "os.environ[\"LOKY_MAX_CPU_COUNT\"] = \"4\"\n",
    "\n",
    "# Define models and their parameters\n",
    "lgbm_params = {'n_estimators': 291, 'learning_rate': 0.033236472434062025, 'max_depth': 14, 'num_leaves': 73, 'min_child_samples': 15, 'subsample': 0.6452608030046519, 'colsample_bytree': 0.7351330578836698}\n",
    "rf_params = {'n_estimators': 383, 'max_depth': 15, 'min_samples_split': 5, 'max_features': 'sqrt', 'criterion': 'entropy'}\n",
    "cb_params = {'iterations': 485, 'learning_rate': 0.02451154055716572, 'depth': 8, 'l2_leaf_reg': 1.312879755477539}\n",
    "xgb_params = {'max_depth': 15, 'learning_rate': 0.12204550084705108, 'n_estimators': 61, 'min_child_weight': 1.9190931783540948, 'subsample': 0.9329682809203258, 'colsample_bytree': 0.7196095681095573, 'gamma': 2.3019670579460234}\n",
    "\n",
    "models = {\n",
    "    'XGBoost': xgb.XGBClassifier(**xgb_params, random_state=42),\n",
    "    'Random Forest': RandomForestClassifier(**rf_params, random_state=42),\n",
    "    'LightGBM': lgb.LGBMClassifier(**lgbm_params, random_state=42, verbose=-1),\n",
    "    'CatBoost': CatBoostClassifier(**cb_params, random_seed=42, verbose=False)\n",
    "}\n",
    "\n",
    "# Cross-validation setup\n",
    "cv = StratifiedKFold(n_splits=5, shuffle=True, random_state=42)\n",
    "\n",
    "# Dictionary to store results\n",
    "results = {'Model': [], 'Accuracy': [], 'ROC AUC': [], 'R2 Score': []}\n",
    "\n",
    "# Perform cross-validation\n",
    "for name, model in models.items():\n",
    "    print(f\"\\n{'-'*50}\")\n",
    "    print(f\"{name} Cross-Validation Results:\")\n",
    "    \n",
    "    acc_scores = cross_val_score(model, X, y, cv=cv, scoring='accuracy', n_jobs=-1)\n",
    "    roc_scores = cross_val_score(model, X, y, cv=cv, scoring='roc_auc', n_jobs=-1)\n",
    "    r2_scores = cross_val_score(model, X, y, cv=cv, scoring='r2', n_jobs=-1)\n",
    "    \n",
    "    results['Model'].append(name)\n",
    "    results['Accuracy'].append(np.mean(acc_scores))\n",
    "    results['ROC AUC'].append(np.mean(roc_scores))\n",
    "    results['R2 Score'].append(np.mean(r2_scores))\n",
    "    \n",
    "    print(f\"Accuracy: {np.mean(acc_scores):.4f} (+/- {np.std(acc_scores):.4f})\")\n",
    "    print(f\"ROC AUC: {np.mean(roc_scores):.4f} (+/- {np.std(roc_scores):.4f})\")\n",
    "    print(f\"R2 Score: {np.mean(r2_scores):.4f} (+/- {np.std(r2_scores):.4f})\")\n",
    "\n",
    "# Create comparison DataFrame\n",
    "models_comparison = pd.DataFrame(results).sort_values('Accuracy', ascending=False)\n",
    "\n",
    "print(\"\\n\" + \"=\"*50)\n",
    "print(\"Models Comparison:\")\n",
    "print(models_comparison.to_string(index=False))"
   ],
   "outputs": [
    {
     "name": "stdout",
     "output_type": "stream",
     "text": [
      "\n",
      "--------------------------------------------------\n",
      "XGBoost Cross-Validation Results:\n",
      "Accuracy: 0.9851 (+/- 0.0020)\n",
      "ROC AUC: 0.9982 (+/- 0.0002)\n",
      "R2 Score: 0.9292 (+/- 0.0093)\n",
      "\n",
      "--------------------------------------------------\n",
      "Random Forest Cross-Validation Results:\n",
      "Accuracy: 0.9794 (+/- 0.0040)\n",
      "ROC AUC: 0.9970 (+/- 0.0005)\n",
      "R2 Score: 0.9022 (+/- 0.0190)\n",
      "\n",
      "--------------------------------------------------\n",
      "LightGBM Cross-Validation Results:\n",
      "Accuracy: 0.9860 (+/- 0.0023)\n",
      "ROC AUC: 0.9983 (+/- 0.0001)\n",
      "R2 Score: 0.9339 (+/- 0.0108)\n",
      "\n",
      "--------------------------------------------------\n",
      "CatBoost Cross-Validation Results:\n",
      "Accuracy: 0.9865 (+/- 0.0028)\n",
      "ROC AUC: 0.9987 (+/- 0.0002)\n",
      "R2 Score: 0.9362 (+/- 0.0133)\n",
      "\n",
      "==================================================\n",
      "Models Comparison:\n",
      "        Model  Accuracy  ROC AUC  R2 Score\n",
      "     CatBoost  0.986547 0.998748  0.936247\n",
      "     LightGBM  0.986041 0.998316  0.933852\n",
      "      XGBoost  0.985069 0.998163  0.929246\n",
      "Random Forest  0.979354 0.996961  0.902159\n"
     ]
    }
   ],
   "execution_count": 42
  }
 ],
 "metadata": {
  "kernelspec": {
   "display_name": "base",
   "language": "python",
   "name": "python3"
  },
  "language_info": {
   "codemirror_mode": {
    "name": "ipython",
    "version": 3
   },
   "file_extension": ".py",
   "mimetype": "text/x-python",
   "name": "python",
   "nbconvert_exporter": "python",
   "pygments_lexer": "ipython3",
   "version": "3.12.7"
  }
 },
 "nbformat": 4,
 "nbformat_minor": 2
}
